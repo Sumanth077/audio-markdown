{
 "cells": [
  {
   "cell_type": "code",
   "execution_count": 2,
   "id": "d4b8e02e",
   "metadata": {},
   "outputs": [
    {
     "name": "stdout",
     "output_type": "stream",
     "text": [
      "Requirement already satisfied: steamship==2.2.0b0 in /Users/edwardbenson/steamship-packages/chinese-tokenizer/.venv/lib/python3.8/site-packages (2.2.0b0)\r\n",
      "Requirement already satisfied: fluent-logger==0.10.0 in /Users/edwardbenson/steamship-packages/chinese-tokenizer/.venv/lib/python3.8/site-packages (from steamship==2.2.0b0) (0.10.0)\r\n",
      "Requirement already satisfied: requests==2.28.1 in /Users/edwardbenson/steamship-packages/chinese-tokenizer/.venv/lib/python3.8/site-packages (from steamship==2.2.0b0) (2.28.1)\r\n",
      "Requirement already satisfied: pydantic==1.10.2 in /Users/edwardbenson/steamship-packages/chinese-tokenizer/.venv/lib/python3.8/site-packages (from steamship==2.2.0b0) (1.10.2)\r\n",
      "Requirement already satisfied: inflection==0.5.1 in /Users/edwardbenson/steamship-packages/chinese-tokenizer/.venv/lib/python3.8/site-packages (from steamship==2.2.0b0) (0.5.1)\r\n",
      "Requirement already satisfied: toml==0.10.2 in /Users/edwardbenson/steamship-packages/chinese-tokenizer/.venv/lib/python3.8/site-packages (from steamship==2.2.0b0) (0.10.2)\r\n",
      "Requirement already satisfied: aiohttp==3.8.1 in /Users/edwardbenson/steamship-packages/chinese-tokenizer/.venv/lib/python3.8/site-packages (from steamship==2.2.0b0) (3.8.1)\r\n",
      "Requirement already satisfied: attrs>=17.3.0 in /Users/edwardbenson/steamship-packages/chinese-tokenizer/.venv/lib/python3.8/site-packages (from aiohttp==3.8.1->steamship==2.2.0b0) (22.1.0)\r\n",
      "Requirement already satisfied: multidict<7.0,>=4.5 in /Users/edwardbenson/steamship-packages/chinese-tokenizer/.venv/lib/python3.8/site-packages (from aiohttp==3.8.1->steamship==2.2.0b0) (6.0.2)\r\n",
      "Requirement already satisfied: yarl<2.0,>=1.0 in /Users/edwardbenson/steamship-packages/chinese-tokenizer/.venv/lib/python3.8/site-packages (from aiohttp==3.8.1->steamship==2.2.0b0) (1.8.1)\r\n",
      "Requirement already satisfied: async-timeout<5.0,>=4.0.0a3 in /Users/edwardbenson/steamship-packages/chinese-tokenizer/.venv/lib/python3.8/site-packages (from aiohttp==3.8.1->steamship==2.2.0b0) (4.0.2)\r\n",
      "Requirement already satisfied: aiosignal>=1.1.2 in /Users/edwardbenson/steamship-packages/chinese-tokenizer/.venv/lib/python3.8/site-packages (from aiohttp==3.8.1->steamship==2.2.0b0) (1.2.0)\r\n",
      "Requirement already satisfied: charset-normalizer<3.0,>=2.0 in /Users/edwardbenson/steamship-packages/chinese-tokenizer/.venv/lib/python3.8/site-packages (from aiohttp==3.8.1->steamship==2.2.0b0) (2.0.12)\r\n",
      "Requirement already satisfied: frozenlist>=1.1.1 in /Users/edwardbenson/steamship-packages/chinese-tokenizer/.venv/lib/python3.8/site-packages (from aiohttp==3.8.1->steamship==2.2.0b0) (1.3.1)\r\n",
      "Requirement already satisfied: msgpack>1.0 in /Users/edwardbenson/steamship-packages/chinese-tokenizer/.venv/lib/python3.8/site-packages (from fluent-logger==0.10.0->steamship==2.2.0b0) (1.0.4)\r\n",
      "Requirement already satisfied: typing-extensions>=4.1.0 in /Users/edwardbenson/steamship-packages/chinese-tokenizer/.venv/lib/python3.8/site-packages (from pydantic==1.10.2->steamship==2.2.0b0) (4.4.0)\r\n",
      "Requirement already satisfied: idna<4,>=2.5 in /Users/edwardbenson/steamship-packages/chinese-tokenizer/.venv/lib/python3.8/site-packages (from requests==2.28.1->steamship==2.2.0b0) (3.4)\r\n",
      "Requirement already satisfied: certifi>=2017.4.17 in /Users/edwardbenson/steamship-packages/chinese-tokenizer/.venv/lib/python3.8/site-packages (from requests==2.28.1->steamship==2.2.0b0) (2022.9.24)\r\n",
      "Requirement already satisfied: urllib3<1.27,>=1.21.1 in /Users/edwardbenson/steamship-packages/chinese-tokenizer/.venv/lib/python3.8/site-packages (from requests==2.28.1->steamship==2.2.0b0) (1.26.12)\r\n",
      "\u001B[33mWARNING: You are using pip version 21.1.2; however, version 22.3 is available.\r\n",
      "You should consider upgrading via the '/Users/edwardbenson/steamship-packages/chinese-tokenizer/.venv/bin/python -m pip install --upgrade pip' command.\u001B[0m\r\n",
      "Note: you may need to restart the kernel to use updated packages.\n"
     ]
    }
   ],
   "source": [
    "%pip install steamship==2.2.0b0"
   ]
  },
  {
   "cell_type": "markdown",
   "id": "2ca1d0c8",
   "metadata": {},
   "source": [
    "# Demo: Chinese Tokenizer\n",
    "## Tokenize and translate Chinese\n",
    "\n",
    "\n",
    "This notebook demonstrates how to create and use the `chinese-tokenizer` package.\n",
    "\n",
    "Instances of the package will be created in such a way that each instance will have its own workspace where data is stored. Workspaces can be used to create personal data vaults for clients as they are isolated from each other."
   ]
  },
  {
   "cell_type": "code",
   "execution_count": 14,
   "id": "aef22a77",
   "metadata": {},
   "outputs": [],
   "source": [
    "from steamship import Steamship"
   ]
  },
  {
   "cell_type": "code",
   "execution_count": 15,
   "id": "d9d097d4",
   "metadata": {},
   "outputs": [],
   "source": [
    "instance = Steamship.use(\"chinese-tokenizer\", \"chinese-tokenizer-002\", profile=\"staging\")"
   ]
  },
  {
   "cell_type": "code",
   "execution_count": 16,
   "id": "f0a8016a",
   "metadata": {},
   "outputs": [],
   "source": [
    "text = \"美国中期选举很重要。选民投票选举的范围包括众议院的所有席位、参议院的三分之一席位，以及数以千计的州的立法机构和行政领导职位。\""
   ]
  },
  {
   "cell_type": "code",
   "execution_count": 17,
   "id": "5f1b2d7d",
   "metadata": {
    "pycharm": {
     "name": "#%%\n"
    }
   },
   "outputs": [],
   "source": [
    "response = instance.invoke(\"tokenize_string\", content=text)"
   ]
  },
  {
   "cell_type": "code",
   "execution_count": 19,
   "outputs": [
    {
     "data": {
      "text/plain": "{'filename': None,\n 'id': '3DA356B0-CFB1-49F2-A130-B590B9E66A7D',\n 'mime_type': 'text/plain',\n 'tags': [],\n 'blocks': [{'tags': [{'id': '66B97706-0487-485F-87F8-713325734AF5',\n     'block_id': '0CE2B719-7F68-4493-ACC8-FD9C1E5CC28F',\n     'end_idx': None,\n     'name': 'paragraph',\n     'file_id': '3DA356B0-CFB1-49F2-A130-B590B9E66A7D',\n     'kind': 'document',\n     'start_idx': None,\n     'value': None},\n    {'id': 'B7A91BC0-7C0E-4D0E-896F-6DBCD654C275',\n     'block_id': '0CE2B719-7F68-4493-ACC8-FD9C1E5CC28F',\n     'end_idx': 2,\n     'file_id': '3DA356B0-CFB1-49F2-A130-B590B9E66A7D',\n     'name': 'ce-dict',\n     'kind': 'token',\n     'start_idx': 0,\n     'value': {'pyacc': 'Měi guó',\n      'simp': '美国',\n      'en': 'United States',\n      'trad': '美國',\n      'zhuyin': 'ㄇㄟˇ ㄍㄨㄛˊ',\n      'pynum': 'Mei3 guo2'}},\n    {'id': '2FABEB82-876D-4B09-8D57-5EDD43BF26CB',\n     'block_id': '0CE2B719-7F68-4493-ACC8-FD9C1E5CC28F',\n     'name': 'ce-dict',\n     'file_id': '3DA356B0-CFB1-49F2-A130-B590B9E66A7D',\n     'end_idx': 4,\n     'kind': 'token',\n     'start_idx': 2,\n     'value': {'simp': '中期',\n      'pyacc': 'zhōng qī',\n      'pynum': 'zhong1 qi1',\n      'trad': '中期',\n      'en': 'middle (of a period of time)',\n      'zhuyin': 'ㄓㄨㄥ ㄑㄧ'}},\n    {'id': '7B7E382D-91B0-4314-8E8B-E3CD9BD08B34',\n     'block_id': '0CE2B719-7F68-4493-ACC8-FD9C1E5CC28F',\n     'name': 'ce-dict',\n     'file_id': '3DA356B0-CFB1-49F2-A130-B590B9E66A7D',\n     'end_idx': 6,\n     'kind': 'token',\n     'start_idx': 4,\n     'value': {'pynum': 'xuan3 ju3',\n      'pyacc': 'xuǎn jǔ',\n      'trad': '選舉',\n      'simp': '选举',\n      'en': 'to elect',\n      'zhuyin': 'ㄒㄩㄢˇ ㄐㄩˇ'}},\n    {'id': '7B2E98D5-D5DC-4F99-BD81-29EBC4348E08',\n     'block_id': '0CE2B719-7F68-4493-ACC8-FD9C1E5CC28F',\n     'end_idx': 7,\n     'file_id': '3DA356B0-CFB1-49F2-A130-B590B9E66A7D',\n     'name': 'ce-dict',\n     'kind': 'token',\n     'start_idx': 6,\n     'value': {'pynum': 'hen3',\n      'pyacc': 'hěn',\n      'trad': '很',\n      'simp': '很',\n      'en': '(adverb of degree)',\n      'zhuyin': 'ㄏㄣˇ'}},\n    {'id': '072F4AB2-B23A-4FCF-811E-60D22E972BA8',\n     'block_id': '0CE2B719-7F68-4493-ACC8-FD9C1E5CC28F',\n     'end_idx': 9,\n     'file_id': '3DA356B0-CFB1-49F2-A130-B590B9E66A7D',\n     'name': 'ce-dict',\n     'kind': 'token',\n     'start_idx': 7,\n     'value': {'en': 'important',\n      'pyacc': 'zhòng yào',\n      'trad': '重要',\n      'zhuyin': 'ㄓㄨㄥˋ ㄧㄠˋ',\n      'pynum': 'zhong4 yao4',\n      'simp': '重要'}},\n    {'id': '9CCE56C7-1A73-4295-A3DC-5EA48302A382',\n     'block_id': '0CE2B719-7F68-4493-ACC8-FD9C1E5CC28F',\n     'end_idx': 12,\n     'file_id': '3DA356B0-CFB1-49F2-A130-B590B9E66A7D',\n     'name': 'ce-dict',\n     'kind': 'token',\n     'start_idx': 10,\n     'value': {'simp': '选民',\n      'en': 'voter',\n      'zhuyin': 'ㄒㄩㄢˇ ㄇㄧㄣˊ',\n      'pynum': 'xuan3 min2',\n      'pyacc': 'xuǎn mín',\n      'trad': '選民'}},\n    {'id': 'F4CBD805-9676-4982-97D7-EAB123DC983E',\n     'block_id': '0CE2B719-7F68-4493-ACC8-FD9C1E5CC28F',\n     'end_idx': 14,\n     'name': 'ce-dict',\n     'file_id': '3DA356B0-CFB1-49F2-A130-B590B9E66A7D',\n     'kind': 'token',\n     'start_idx': 12,\n     'value': {'simp': '投票',\n      'en': 'to vote',\n      'zhuyin': 'ㄊㄡˊ ㄆㄧㄠˋ',\n      'pyacc': 'tóu piào',\n      'pynum': 'tou2 piao4',\n      'trad': '投票'}},\n    {'id': '802A142D-FF23-44AC-A8E1-B4B606381727',\n     'block_id': '0CE2B719-7F68-4493-ACC8-FD9C1E5CC28F',\n     'name': 'ce-dict',\n     'file_id': '3DA356B0-CFB1-49F2-A130-B590B9E66A7D',\n     'end_idx': 16,\n     'kind': 'token',\n     'start_idx': 14,\n     'value': {'zhuyin': 'ㄒㄩㄢˇ ㄐㄩˇ',\n      'pyacc': 'xuǎn jǔ',\n      'en': 'to elect',\n      'trad': '選舉',\n      'pynum': 'xuan3 ju3',\n      'simp': '选举'}},\n    {'id': '76DD3913-93C2-4D77-9D87-3D42E2E4F069',\n     'block_id': '0CE2B719-7F68-4493-ACC8-FD9C1E5CC28F',\n     'name': 'ce-dict',\n     'file_id': '3DA356B0-CFB1-49F2-A130-B590B9E66A7D',\n     'end_idx': 17,\n     'kind': 'token',\n     'start_idx': 16,\n     'value': {'simp': '的',\n      'en': 'of',\n      'zhuyin': 'ㄉㄜ˙',\n      'pyacc': 'de',\n      'pynum': 'de5',\n      'trad': '的'}},\n    {'id': 'F1CE6B5D-C3ED-4C54-8416-F1D45B68E00A',\n     'block_id': '0CE2B719-7F68-4493-ACC8-FD9C1E5CC28F',\n     'end_idx': 19,\n     'file_id': '3DA356B0-CFB1-49F2-A130-B590B9E66A7D',\n     'name': 'ce-dict',\n     'kind': 'token',\n     'start_idx': 17,\n     'value': {'pynum': 'fan4 wei2',\n      'trad': '範圍',\n      'zhuyin': 'ㄈㄢˋ ㄨㄟˊ',\n      'pyacc': 'fàn wéi',\n      'simp': '范围',\n      'en': 'range'}},\n    {'id': '5B00240F-7A7A-464A-9AB2-C6B3068EE777',\n     'block_id': '0CE2B719-7F68-4493-ACC8-FD9C1E5CC28F',\n     'name': 'ce-dict',\n     'end_idx': 21,\n     'file_id': '3DA356B0-CFB1-49F2-A130-B590B9E66A7D',\n     'kind': 'token',\n     'start_idx': 19,\n     'value': {'simp': '包括',\n      'trad': '包括',\n      'en': 'to comprise',\n      'zhuyin': 'ㄅㄠ ㄎㄨㄛˋ',\n      'pyacc': 'bāo kuò',\n      'pynum': 'bao1 kuo4'}},\n    {'id': '78713909-4E87-4B71-888E-18BA602856E6',\n     'block_id': '0CE2B719-7F68-4493-ACC8-FD9C1E5CC28F',\n     'end_idx': 24,\n     'file_id': '3DA356B0-CFB1-49F2-A130-B590B9E66A7D',\n     'name': 'ce-dict',\n     'kind': 'token',\n     'start_idx': 21,\n     'value': {'pynum': 'Zhong4 yi4 yuan4',\n      'en': 'lower house of bicameral assembly',\n      'simp': '众议院',\n      'trad': '眾議院',\n      'zhuyin': 'ㄓㄨㄥˋ ㄧˋ ㄩㄢˋ',\n      'pyacc': 'Zhòng yì yuàn'}},\n    {'id': 'B3EE1DC8-C742-4EF2-94BD-810C1ED813E3',\n     'block_id': '0CE2B719-7F68-4493-ACC8-FD9C1E5CC28F',\n     'end_idx': 25,\n     'file_id': '3DA356B0-CFB1-49F2-A130-B590B9E66A7D',\n     'name': 'ce-dict',\n     'kind': 'token',\n     'start_idx': 24,\n     'value': {'zhuyin': 'ㄉㄜ˙',\n      'pyacc': 'de',\n      'simp': '的',\n      'trad': '的',\n      'en': 'of',\n      'pynum': 'de5'}},\n    {'id': 'E656966F-67CC-408C-82A5-4DA0C4F651D6',\n     'block_id': '0CE2B719-7F68-4493-ACC8-FD9C1E5CC28F',\n     'name': 'ce-dict',\n     'file_id': '3DA356B0-CFB1-49F2-A130-B590B9E66A7D',\n     'end_idx': 27,\n     'kind': 'token',\n     'start_idx': 25,\n     'value': {'pyacc': 'suǒ yǒu',\n      'zhuyin': 'ㄙㄨㄛˇ ㄧㄡˇ',\n      'pynum': 'suo3 you3',\n      'en': 'all',\n      'trad': '所有',\n      'simp': '所有'}},\n    {'id': '7C74E424-9FED-4CB4-9835-2E4D2CEAFB02',\n     'block_id': '0CE2B719-7F68-4493-ACC8-FD9C1E5CC28F',\n     'end_idx': 29,\n     'name': 'ce-dict',\n     'file_id': '3DA356B0-CFB1-49F2-A130-B590B9E66A7D',\n     'kind': 'token',\n     'start_idx': 27,\n     'value': {'trad': '席位',\n      'zhuyin': 'ㄒㄧˊ ㄨㄟˋ',\n      'en': 'a seat (in a theater, stadium etc)',\n      'simp': '席位',\n      'pyacc': 'xí wèi',\n      'pynum': 'xi2 wei4'}},\n    {'id': 'CD285819-771B-48EE-8C72-B59632B7B729',\n     'block_id': '0CE2B719-7F68-4493-ACC8-FD9C1E5CC28F',\n     'end_idx': 33,\n     'name': 'ce-dict',\n     'file_id': '3DA356B0-CFB1-49F2-A130-B590B9E66A7D',\n     'kind': 'token',\n     'start_idx': 30,\n     'value': {'simp': '参议院',\n      'trad': '參議院',\n      'pynum': 'can1 yi4 yuan4',\n      'zhuyin': 'ㄘㄢ ㄧˋ ㄩㄢˋ',\n      'en': 'senate',\n      'pyacc': 'cān yì yuàn'}},\n    {'id': 'D3C9A5C2-2F75-48EE-B3D6-103D1AAA50DE',\n     'block_id': '0CE2B719-7F68-4493-ACC8-FD9C1E5CC28F',\n     'end_idx': 34,\n     'file_id': '3DA356B0-CFB1-49F2-A130-B590B9E66A7D',\n     'name': 'ce-dict',\n     'kind': 'token',\n     'start_idx': 33,\n     'value': {'pyacc': 'de',\n      'en': 'of',\n      'zhuyin': 'ㄉㄜ˙',\n      'trad': '的',\n      'simp': '的',\n      'pynum': 'de5'}},\n    {'id': '397B9578-AF9D-4DE9-9DE6-E3A461F84566',\n     'block_id': '0CE2B719-7F68-4493-ACC8-FD9C1E5CC28F',\n     'name': 'ce-dict',\n     'file_id': '3DA356B0-CFB1-49F2-A130-B590B9E66A7D',\n     'end_idx': 38,\n     'kind': 'token',\n     'start_idx': 34,\n     'value': {'en': 'one third',\n      'trad': '三分之一',\n      'simp': '三分之一',\n      'pyacc': 'sān fēn zhī yī',\n      'pynum': 'san1 fen1 zhi1 yi1',\n      'zhuyin': 'ㄙㄢ ㄈㄣ ㄓ ㄧ'}},\n    {'id': '8C4F729C-D46A-4753-92B3-98AE782A8197',\n     'block_id': '0CE2B719-7F68-4493-ACC8-FD9C1E5CC28F',\n     'end_idx': 40,\n     'name': 'ce-dict',\n     'file_id': '3DA356B0-CFB1-49F2-A130-B590B9E66A7D',\n     'kind': 'token',\n     'start_idx': 38,\n     'value': {'pyacc': 'xí wèi',\n      'en': 'a seat (in a theater, stadium etc)',\n      'zhuyin': 'ㄒㄧˊ ㄨㄟˋ',\n      'pynum': 'xi2 wei4',\n      'simp': '席位',\n      'trad': '席位'}},\n    {'id': 'EF0508CD-DBDB-4898-A031-4B896A09D0EC',\n     'block_id': '0CE2B719-7F68-4493-ACC8-FD9C1E5CC28F',\n     'end_idx': 43,\n     'file_id': '3DA356B0-CFB1-49F2-A130-B590B9E66A7D',\n     'name': 'ce-dict',\n     'kind': 'token',\n     'start_idx': 41,\n     'value': {'trad': '以及',\n      'en': 'as well as',\n      'simp': '以及',\n      'pynum': 'yi3 ji2',\n      'zhuyin': 'ㄧˇ ㄐㄧˊ',\n      'pyacc': 'yǐ jí'}},\n    {'id': '80AF7D2D-7037-48FF-B9B2-35D61559320C',\n     'block_id': '0CE2B719-7F68-4493-ACC8-FD9C1E5CC28F',\n     'end_idx': 47,\n     'name': 'ce-dict',\n     'file_id': '3DA356B0-CFB1-49F2-A130-B590B9E66A7D',\n     'kind': 'token',\n     'start_idx': 43,\n     'value': {'trad': '數以千計',\n      'en': 'thousands (of sth)',\n      'pynum': 'shu4 yi3 qian1 ji4',\n      'zhuyin': 'ㄕㄨˋ ㄧˇ ㄑㄧㄢ ㄐㄧˋ',\n      'pyacc': 'shù yǐ qiān jì',\n      'simp': '数以千计'}},\n    {'id': '890B05D0-9BF0-49B3-BBE1-05E3ED350F08',\n     'block_id': '0CE2B719-7F68-4493-ACC8-FD9C1E5CC28F',\n     'end_idx': 48,\n     'file_id': '3DA356B0-CFB1-49F2-A130-B590B9E66A7D',\n     'name': 'ce-dict',\n     'kind': 'token',\n     'start_idx': 47,\n     'value': {'trad': '的',\n      'simp': '的',\n      'pynum': 'de5',\n      'pyacc': 'de',\n      'zhuyin': 'ㄉㄜ˙',\n      'en': 'of'}},\n    {'id': '8FA4A430-1A32-4DA0-ABFF-A7E4C0933C51',\n     'block_id': '0CE2B719-7F68-4493-ACC8-FD9C1E5CC28F',\n     'end_idx': 49,\n     'file_id': '3DA356B0-CFB1-49F2-A130-B590B9E66A7D',\n     'name': 'ce-dict',\n     'kind': 'token',\n     'start_idx': 48,\n     'value': {'pynum': 'zhou1',\n      'simp': '州',\n      'pyacc': 'zhōu',\n      'trad': '州',\n      'en': 'prefecture',\n      'zhuyin': 'ㄓㄡ'}},\n    {'id': '72BFA8CB-0E51-45CF-A086-CAB3BB6457F1',\n     'block_id': '0CE2B719-7F68-4493-ACC8-FD9C1E5CC28F',\n     'name': 'ce-dict',\n     'file_id': '3DA356B0-CFB1-49F2-A130-B590B9E66A7D',\n     'end_idx': 50,\n     'kind': 'token',\n     'start_idx': 49,\n     'value': {'simp': '的',\n      'pyacc': 'de',\n      'zhuyin': 'ㄉㄜ˙',\n      'trad': '的',\n      'pynum': 'de5',\n      'en': 'of'}},\n    {'id': '989EF9D5-82A1-4B19-ABEC-D3E0A77E4331',\n     'block_id': '0CE2B719-7F68-4493-ACC8-FD9C1E5CC28F',\n     'end_idx': 52,\n     'name': 'ce-dict',\n     'file_id': '3DA356B0-CFB1-49F2-A130-B590B9E66A7D',\n     'kind': 'token',\n     'start_idx': 50,\n     'value': {'en': 'to enact laws',\n      'pyacc': 'lì fǎ',\n      'trad': '立法',\n      'simp': '立法',\n      'pynum': 'li4 fa3',\n      'zhuyin': 'ㄌㄧˋ ㄈㄚˇ'}},\n    {'id': '9E1AA7F4-8D27-472B-83DA-473FAC9FB547',\n     'block_id': '0CE2B719-7F68-4493-ACC8-FD9C1E5CC28F',\n     'name': 'ce-dict',\n     'file_id': '3DA356B0-CFB1-49F2-A130-B590B9E66A7D',\n     'end_idx': 54,\n     'kind': 'token',\n     'start_idx': 52,\n     'value': {'en': 'mechanism',\n      'simp': '机构',\n      'pyacc': 'jī gòu',\n      'zhuyin': 'ㄐㄧ ㄍㄡˋ',\n      'trad': '機構',\n      'pynum': 'ji1 gou4'}},\n    {'id': '98B7E1E4-8040-442D-AEBB-86B609D8400F',\n     'block_id': '0CE2B719-7F68-4493-ACC8-FD9C1E5CC28F',\n     'end_idx': 55,\n     'file_id': '3DA356B0-CFB1-49F2-A130-B590B9E66A7D',\n     'name': 'ce-dict',\n     'kind': 'token',\n     'start_idx': 54,\n     'value': {'zhuyin': 'ㄏㄜˊ',\n      'trad': '咊',\n      'en': 'old variant of 和[he2]',\n      'simp': '和',\n      'pyacc': 'hé',\n      'pynum': 'he2'}},\n    {'id': '63B98C32-404B-44B2-8599-003AD5C0949E',\n     'block_id': '0CE2B719-7F68-4493-ACC8-FD9C1E5CC28F',\n     'name': 'ce-dict',\n     'file_id': '3DA356B0-CFB1-49F2-A130-B590B9E66A7D',\n     'end_idx': 57,\n     'kind': 'token',\n     'start_idx': 55,\n     'value': {'pyacc': 'xíng zhèng',\n      'trad': '行政',\n      'pynum': 'xing2 zheng4',\n      'zhuyin': 'ㄒㄧㄥˊ ㄓㄥˋ',\n      'simp': '行政',\n      'en': 'administration'}},\n    {'id': 'DBEED796-8A69-4778-B42E-1D514B9A3B5A',\n     'block_id': '0CE2B719-7F68-4493-ACC8-FD9C1E5CC28F',\n     'end_idx': 59,\n     'file_id': '3DA356B0-CFB1-49F2-A130-B590B9E66A7D',\n     'name': 'ce-dict',\n     'kind': 'token',\n     'start_idx': 57,\n     'value': {'zhuyin': 'ㄌㄧㄥˇ ㄉㄠˇ',\n      'simp': '领导',\n      'pynum': 'ling3 dao3',\n      'en': 'lead',\n      'trad': '領導',\n      'pyacc': 'lǐng dǎo'}},\n    {'id': 'D024810A-774B-48D9-9489-5739FC0CD7B6',\n     'block_id': '0CE2B719-7F68-4493-ACC8-FD9C1E5CC28F',\n     'name': 'ce-dict',\n     'file_id': '3DA356B0-CFB1-49F2-A130-B590B9E66A7D',\n     'end_idx': 61,\n     'kind': 'token',\n     'start_idx': 59,\n     'value': {'zhuyin': 'ㄓˊ ㄨㄟˋ',\n      'en': 'post',\n      'trad': '職位',\n      'simp': '职位',\n      'pynum': 'zhi2 wei4',\n      'pyacc': 'zhí wèi'}}],\n   'id': '0CE2B719-7F68-4493-ACC8-FD9C1E5CC28F',\n   'text': '美国中期选举很重要。选民投票选举的范围包括众议院的所有席位、参议院的三分之一席位，以及数以千计的州的立法机构和行政领导职位。',\n   'file_id': '3DA356B0-CFB1-49F2-A130-B590B9E66A7D'}],\n 'workspace_id': '5B2156D1-3FB7-49D0-B614-4A5A91A517A3',\n 'handle': 'scenic-waterfall-2o781'}"
     },
     "execution_count": 19,
     "metadata": {},
     "output_type": "execute_result"
    }
   ],
   "source": [
    "response"
   ],
   "metadata": {
    "collapsed": false,
    "pycharm": {
     "name": "#%%\n"
    }
   }
  },
  {
   "cell_type": "code",
   "execution_count": null,
   "outputs": [],
   "source": [],
   "metadata": {
    "collapsed": false,
    "pycharm": {
     "name": "#%%\n"
    }
   }
  }
 ],
 "metadata": {
  "kernelspec": {
   "display_name": "Python 3 (ipykernel)",
   "language": "python",
   "name": "python3"
  },
  "language_info": {
   "codemirror_mode": {
    "name": "ipython",
    "version": 3
   },
   "file_extension": ".py",
   "mimetype": "text/x-python",
   "name": "python",
   "nbconvert_exporter": "python",
   "pygments_lexer": "ipython3",
   "version": "3.9.6"
  }
 },
 "nbformat": 4,
 "nbformat_minor": 5
}