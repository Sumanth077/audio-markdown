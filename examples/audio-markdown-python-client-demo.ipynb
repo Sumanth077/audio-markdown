{
 "cells": [
  {
   "cell_type": "code",
   "execution_count": null,
   "id": "d4b8e02e",
   "metadata": {},
   "outputs": [],
   "source": [
    "%pip install steamship===2.2.0b2"
   ]
  },
  {
   "cell_type": "markdown",
   "id": "2ca1d0c8",
   "metadata": {},
   "source": [
    "# Demo: Audio Markdown Package\n",
    "## Transcribe audio using Steamship's Audio Markdown Package \n",
    "\n",
    "\n",
    "This notebook demonstrates how to create and use the `audio-markdown` package. \n",
    "\n",
    "Instances of the package will be created in such a way that each instance will have its own workspace where data is stored. Workspaces can be used to create personal data vaults for clients as they are isolated from each other."
   ]
  },
  {
   "cell_type": "code",
   "execution_count": null,
   "id": "aef22a77",
   "metadata": {},
   "outputs": [],
   "source": [
    "from steamship import Steamship\n",
    "from steamship.base import TaskState"
   ]
  },
  {
   "cell_type": "code",
   "execution_count": null,
   "id": "2546df0e",
   "metadata": {},
   "outputs": [],
   "source": [
    "import time"
   ]
  },
  {
   "cell_type": "markdown",
   "id": "17cdb6f3",
   "metadata": {},
   "source": [
    "### Constants\n",
    "\n",
    "Using this notebook requires a Steamship API key. If you do not have one, you can create one by typing the following in a terminal. If you opened this notebook using `npx try-steamship audio-markdown` you will already have an API key configured in `~/steamship.json`. \n",
    "\n",
    "> npm install -g @steamship/cli && steamship login"
   ]
  },
  {
   "cell_type": "markdown",
   "id": "0397ec56",
   "metadata": {},
   "source": [
    "# Create a new instance of the package"
   ]
  },
  {
   "cell_type": "code",
   "execution_count": null,
   "id": "d9d097d4",
   "metadata": {},
   "outputs": [],
   "source": [
    "instance = Steamship.use(\"audio-markdown-staging\", \"audio-markdown-client-test-001\")"
   ]
  },
  {
   "cell_type": "code",
   "execution_count": null,
   "id": "fe180fe3",
   "metadata": {},
   "outputs": [],
   "source": [
    "print(\n",
    "    f\"\"\"\n",
    "{'Invocation URL': <20}: {instance.invocation_url}\n",
    "{'Instance ID': <20}: {instance.id}\n",
    "{'Version ID': <20}: {instance.package_version_id} \n",
    "{'Package ID': <20}: {instance.package_id}\n",
    "{'Workspace ID': <20}: {instance.workspace_id}\n",
    "\"\"\"\n",
    ")"
   ]
  },
  {
   "cell_type": "markdown",
   "id": "f9e639d2",
   "metadata": {},
   "source": [
    "# Submitting audio files for Markdown generation\n",
    "\n",
    "The `audio-markdown` package transcribes audio files that are accessible via URL. Any publically accessible URL will work including pre-signed url's to S3 or Google Storage.\n",
    "\n",
    "In the code sample below we show you how to submit an URL of your audio file to the `transcribe_url` API.\n",
    "\n",
    "The `POST` request triggers the asynchronous transcription and markdown generation from your file. \n",
    "\n",
    "After submitting your `POST` request you will receive a response that includes a `task_id` and `status` key. \n",
    "\n",
    "The `status` key shows you the status of your analysis task. It will start with `\"waiting\"`, and then proceed to `\"processing\"`, and finally to `\"succeeded\"` or `\"failed\"`. "
   ]
  },
  {
   "cell_type": "code",
   "execution_count": null,
   "id": "f0a8016a",
   "metadata": {},
   "outputs": [],
   "source": [
    "# URL pointing to an audio file\n",
    "# Replace this with your own audio file\n",
    "audio_url = \"https://sndup.net/wdp4/d\""
   ]
  },
  {
   "cell_type": "code",
   "execution_count": null,
   "id": "5f1b2d7d",
   "metadata": {},
   "outputs": [],
   "source": [
    "# Transcribe and analyze your audio file\n",
    "transcribe_response = instance.invoke(\"transcribe_url\", url=audio_url)\n",
    "\n",
    "task_id = transcribe_response[\"task_id\"]\n",
    "status = transcribe_response[\"status\"]\n",
    "\n",
    "print(\n",
    "    f\"\"\"\n",
    "task ID: {task_id}\n",
    "status: {status}\n",
    "\"\"\"\n",
    ")"
   ]
  },
  {
   "cell_type": "markdown",
   "id": "e4c3b200",
   "metadata": {},
   "source": [
    "### Retrieving Markdown results\n",
    "\n",
    "As your file is being processed the `\"status\"` will go from `\"waiting\"` to `\"processing\"` to `\"succeeded\"` or `\"failed\"`. You can check in on the progress of your task using the `\"task_id\"` by calling the `get_markdown` endpoint. \n",
    "\n",
    "You'll have to make repeated requests untill the status converges to `\"succeeded\"` or `\"failed\"`. Once the `status` key is set to `\"succeeded\"`, you'll see a `markdown` key that represents the generated Markdown. "
   ]
  },
  {
   "cell_type": "code",
   "execution_count": null,
   "id": "11b7f54c",
   "metadata": {
    "pycharm": {
     "name": "#%%\n"
    }
   },
   "outputs": [],
   "source": [
    "retries = 0\n",
    "while retries <= 100 and status != TaskState.succeeded:\n",
    "    response = instance.invoke(\"get_markdown\", task_id=task_id)\n",
    "    status = response['status']\n",
    "    if status == TaskState.failed:\n",
    "        print(f\"[FAILED] {response.status_message}\")\n",
    "        break\n",
    "\n",
    "    print(f\"[Try {retries}] Transcription {status}.\")\n",
    "    if status == TaskState.succeeded:\n",
    "        break\n",
    "    time.sleep(2)\n",
    "    retries += 1\n",
    "\n",
    "markdown_file = response[\"markdown\"]\n"
   ]
  },
  {
   "cell_type": "code",
   "execution_count": null,
   "id": "251dab12",
   "metadata": {},
   "outputs": [],
   "source": [
    "from IPython.display import display, Markdown\n",
    "display(Markdown(markdown_file))"
   ]
  }
 ],
 "metadata": {
  "kernelspec": {
   "display_name": "Python 3 (ipykernel)",
   "language": "python",
   "name": "python3"
  },
  "language_info": {
   "codemirror_mode": {
    "name": "ipython",
    "version": 3
   },
   "file_extension": ".py",
   "mimetype": "text/x-python",
   "name": "python",
   "nbconvert_exporter": "python",
   "pygments_lexer": "ipython3",
   "version": "3.8.15"
  }
 },
 "nbformat": 4,
 "nbformat_minor": 5
}
