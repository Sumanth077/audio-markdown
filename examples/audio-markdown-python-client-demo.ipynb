{
 "cells": [
  {
   "cell_type": "code",
   "execution_count": 1,
   "id": "d4b8e02e",
   "metadata": {
    "scrolled": true
   },
   "outputs": [
    {
     "name": "stdout",
     "output_type": "stream",
     "text": [
      "Requirement already satisfied: steamship==2.1.31 in /Users/dougreid/work/github.com/steamship-packages/audio-markdown/.venv/lib/python3.9/site-packages (2.1.31)\n",
      "Requirement already satisfied: aiohttp==3.8.1 in /Users/dougreid/work/github.com/steamship-packages/audio-markdown/.venv/lib/python3.9/site-packages (from steamship==2.1.31) (3.8.1)\n",
      "Requirement already satisfied: fluent-logger==0.10.0 in /Users/dougreid/work/github.com/steamship-packages/audio-markdown/.venv/lib/python3.9/site-packages (from steamship==2.1.31) (0.10.0)\n",
      "Requirement already satisfied: requests==2.27.1 in /Users/dougreid/work/github.com/steamship-packages/audio-markdown/.venv/lib/python3.9/site-packages (from steamship==2.1.31) (2.27.1)\n",
      "Requirement already satisfied: inflection==0.5.1 in /Users/dougreid/work/github.com/steamship-packages/audio-markdown/.venv/lib/python3.9/site-packages (from steamship==2.1.31) (0.5.1)\n",
      "Requirement already satisfied: pydantic==1.9.0 in /Users/dougreid/work/github.com/steamship-packages/audio-markdown/.venv/lib/python3.9/site-packages (from steamship==2.1.31) (1.9.0)\n",
      "Requirement already satisfied: charset-normalizer<3.0,>=2.0 in /Users/dougreid/work/github.com/steamship-packages/audio-markdown/.venv/lib/python3.9/site-packages (from aiohttp==3.8.1->steamship==2.1.31) (2.0.12)\n",
      "Requirement already satisfied: attrs>=17.3.0 in /Users/dougreid/work/github.com/steamship-packages/audio-markdown/.venv/lib/python3.9/site-packages (from aiohttp==3.8.1->steamship==2.1.31) (22.1.0)\n",
      "Requirement already satisfied: frozenlist>=1.1.1 in /Users/dougreid/work/github.com/steamship-packages/audio-markdown/.venv/lib/python3.9/site-packages (from aiohttp==3.8.1->steamship==2.1.31) (1.3.1)\n",
      "Requirement already satisfied: yarl<2.0,>=1.0 in /Users/dougreid/work/github.com/steamship-packages/audio-markdown/.venv/lib/python3.9/site-packages (from aiohttp==3.8.1->steamship==2.1.31) (1.8.1)\n",
      "Requirement already satisfied: aiosignal>=1.1.2 in /Users/dougreid/work/github.com/steamship-packages/audio-markdown/.venv/lib/python3.9/site-packages (from aiohttp==3.8.1->steamship==2.1.31) (1.2.0)\n",
      "Requirement already satisfied: multidict<7.0,>=4.5 in /Users/dougreid/work/github.com/steamship-packages/audio-markdown/.venv/lib/python3.9/site-packages (from aiohttp==3.8.1->steamship==2.1.31) (6.0.2)\n",
      "Requirement already satisfied: async-timeout<5.0,>=4.0.0a3 in /Users/dougreid/work/github.com/steamship-packages/audio-markdown/.venv/lib/python3.9/site-packages (from aiohttp==3.8.1->steamship==2.1.31) (4.0.2)\n",
      "Requirement already satisfied: msgpack>1.0 in /Users/dougreid/work/github.com/steamship-packages/audio-markdown/.venv/lib/python3.9/site-packages (from fluent-logger==0.10.0->steamship==2.1.31) (1.0.4)\n",
      "Requirement already satisfied: typing-extensions>=3.7.4.3 in /Users/dougreid/work/github.com/steamship-packages/audio-markdown/.venv/lib/python3.9/site-packages (from pydantic==1.9.0->steamship==2.1.31) (4.4.0)\n",
      "Requirement already satisfied: urllib3<1.27,>=1.21.1 in /Users/dougreid/work/github.com/steamship-packages/audio-markdown/.venv/lib/python3.9/site-packages (from requests==2.27.1->steamship==2.1.31) (1.26.12)\n",
      "Requirement already satisfied: certifi>=2017.4.17 in /Users/dougreid/work/github.com/steamship-packages/audio-markdown/.venv/lib/python3.9/site-packages (from requests==2.27.1->steamship==2.1.31) (2022.9.24)\n",
      "Requirement already satisfied: idna<4,>=2.5 in /Users/dougreid/work/github.com/steamship-packages/audio-markdown/.venv/lib/python3.9/site-packages (from requests==2.27.1->steamship==2.1.31) (3.4)\n",
      "Note: you may need to restart the kernel to use updated packages.\n"
     ]
    }
   ],
   "source": [
    "%pip install steamship==2.1.31"
   ]
  },
  {
   "cell_type": "markdown",
   "id": "2ca1d0c8",
   "metadata": {},
   "source": [
    "# Demo: Audio Markdown Package\n",
    "## Transcribe audio using Steamship's Audio Markdown Package \n",
    "\n",
    "\n",
    "This notebook demonstrates how to create and use the `audio-markdown` package. \n",
    "\n",
    "Instances of the package will be created in such a way that each instance will have its own workspace where data is stored. Workspaces can be used to create personal data vaults for clients as they are isolated from each other."
   ]
  },
  {
   "cell_type": "code",
   "execution_count": 2,
   "id": "aef22a77",
   "metadata": {},
   "outputs": [],
   "source": [
    "from steamship import Steamship, File, MimeTypes, Space, Block, Tag, App, AppInstance\n",
    "from steamship.data.space import SignedUrl\n",
    "from steamship.utils.signed_urls import upload_to_signed_url\n",
    "from steamship.base import TaskState"
   ]
  },
  {
   "cell_type": "code",
   "execution_count": 3,
   "id": "2546df0e",
   "metadata": {},
   "outputs": [],
   "source": [
    "from pathlib import Path\n",
    "from datetime import datetime\n",
    "from uuid import uuid4\n",
    "from typing import Union\n",
    "import time\n",
    "from pprint import pprint"
   ]
  },
  {
   "cell_type": "markdown",
   "id": "17cdb6f3",
   "metadata": {},
   "source": [
    "### Constants\n",
    "\n",
    "Using this notebook requires a Steamship API key. If you do not have one, you can create one by typing the following in a terminal. If you opened this notebook using `npx try-steamship audio-markdown` you will already have an API key configured in `~/steamship.json`. \n",
    "\n",
    "> npm install -g @steamship/cli && steamship login"
   ]
  },
  {
   "cell_type": "markdown",
   "id": "0397ec56",
   "metadata": {},
   "source": [
    "# Create a new instance of the package"
   ]
  },
  {
   "cell_type": "code",
   "execution_count": 15,
   "id": "d9d097d4",
   "metadata": {},
   "outputs": [
    {
     "name": "stderr",
     "output_type": "stream",
     "text": [
      "INFO:root:[Client] Creating/Fetching workspace with handle/id: audio-markdown-client-test-01/None.\n",
      "INFO:root:Making POST to https://api.steamship.com/api/v1/space/create in space None/None\n",
      "INFO:root:From POST to https://api.steamship.com/api/v1/space/create got HTTP 200\n",
      "INFO:root:[Client] Switched to workspace audio-markdown-client-test-01/7E4972E1-7836-4658-B10C-1C6D3B9D8032\n",
      "INFO:root:Making POST to https://api.steamship.com/api/v1/app/instance/create in space None/None\n",
      "INFO:root:From POST to https://api.steamship.com/api/v1/app/instance/create got HTTP 200\n"
     ]
    }
   ],
   "source": [
    "instance = Steamship.use(\"audio-markdown\", \"audio-markdown-client-test-01\")"
   ]
  },
  {
   "cell_type": "code",
   "execution_count": 16,
   "id": "fe180fe3",
   "metadata": {},
   "outputs": [
    {
     "name": "stdout",
     "output_type": "stream",
     "text": [
      "\n",
      "Invocation URL      : https://doug.steamship.run/audio-markdown-client-test-01/audio-markdown-client-test-01/\n",
      "Instance ID         : 9179C560-2F40-46FA-886B-F07A904ED781\n",
      "Version ID          : 2AC208B4-92FB-4F64-A4E1-8D8182010F32 \n",
      "App ID              : D4B4D028-D4E4-48DA-92F7-C4E4E4C28918\n",
      "Workspace ID        : 7E4972E1-7836-4658-B10C-1C6D3B9D8032\n",
      "\n"
     ]
    }
   ],
   "source": [
    "print(\n",
    "    f\"\"\"\n",
    "{'Invocation URL': <20}: {instance.invocation_url}\n",
    "{'Instance ID': <20}: {instance.id}\n",
    "{'Version ID': <20}: {instance.app_version_id} \n",
    "{'App ID': <20}: {instance.app_id}\n",
    "{'Workspace ID': <20}: {instance.space_id}\n",
    "\"\"\"\n",
    ")"
   ]
  },
  {
   "cell_type": "markdown",
   "id": "f9e639d2",
   "metadata": {},
   "source": [
    "# Submitting mp3 files for analysis\n",
    "\n",
    "The audio analytics package transcribes mp3 files that are accessible via URL. Any publically accessible URL will work including pre-signed url's to S3 or Google Storage.\n",
    "\n",
    "In the code sample below we show you how to submit an URL of your MP3 file to the `analyze` API.\n",
    "\n",
    "The `POST` request triggers the asynchronous transcription and analysis of your file and stores the results in your workspace for future access. \n",
    "\n",
    "After submitting your `POST` request you will receive a response that includes a `task_id` and `status` key. \n",
    "\n",
    "The `status` key shows you the status of your analysis task. It will start with `\"waiting\"`, and then proceed to `\"processing\"`, and finally to `\"completed\"` or `\"failed\"`. \n",
    "\n",
    "\n",
    "If you want to upload local audio files directly to your workspace you can use the helper method `upload_audio_file`. "
   ]
  },
  {
   "cell_type": "code",
   "execution_count": 17,
   "id": "f0a8016a",
   "metadata": {},
   "outputs": [],
   "source": [
    "# URL pointing to an audio file\n",
    "audio_url = \"https://api.webm.to/static/downloads/c0b449c32c9e4b4f9444167dcc1bcd1d/markdown_test_4.webm\""
   ]
  },
  {
   "cell_type": "code",
   "execution_count": 18,
   "id": "5f1b2d7d",
   "metadata": {},
   "outputs": [
    {
     "name": "stderr",
     "output_type": "stream",
     "text": [
      "INFO:root:Making POST to https://api.steamship.com/api/v1/space/get in space None/None\n",
      "INFO:root:From POST to https://api.steamship.com/api/v1/space/get got HTTP 200\n",
      "INFO:root:Making POST to https://doug.steamship.run/audio-markdown-client-test-01/audio-markdown-client-test-01/transcribe_url in space None/7E4972E1-7836-4658-B10C-1C6D3B9D8032\n",
      "INFO:root:From POST to https://doug.steamship.run/audio-markdown-client-test-01/audio-markdown-client-test-01/transcribe_url got HTTP 200\n"
     ]
    },
    {
     "name": "stdout",
     "output_type": "stream",
     "text": [
      "\n",
      "task ID: 57462055-3997-4925-988E-A9EC0A89B3E0\n",
      "status: waiting\n",
      "\n"
     ]
    }
   ],
   "source": [
    "# Transcribe and analyze your audio file\n",
    "transcribe_url_response = instance.post(\"transcribe_url\", url=audio_url).data\n",
    "\n",
    "task_id = transcribe_url_response[\"task_id\"]\n",
    "status = transcribe_url_response[\"status\"]\n",
    "\n",
    "print(\n",
    "    f\"\"\"\n",
    "task ID: {task_id}\n",
    "status: {status}\n",
    "\"\"\"\n",
    ")"
   ]
  },
  {
   "cell_type": "markdown",
   "id": "4544ddd5",
   "metadata": {},
   "source": [
    "### Retrieving audio analysis results\n",
    "\n",
    "As your file is being processed the `\"status\"` will go from `\"waiting\"` to `\"processing\"` to `\"completed\"` or `\"failed\"`. You can check in on the progress of your analysis task using the `\"task_id\"` by calling the `get_markdown` endpoint. \n",
    "\n",
    "You'll have to make repeated `GET` requests untill the status converges to `\"completed\"` or `\"failed\"`. Once the `status` key is set to `\"completed\"`, you'll see a `file` key that represents the transcription augmented with language AI features such as entities and emotion. \n",
    "\n",
    "\n",
    "To facilitate future file retrieval Steamship will store and index the augmented transcription in your workspace. \n",
    "\n",
    "In this notebook, we'll inspect the contents of the `file` response. For more info on how to query audio files in your workspace using Steamships query language scroll to [Query your workspace](#query_workspace)."
   ]
  },
  {
   "cell_type": "code",
   "execution_count": 19,
   "id": "15ff35f0",
   "metadata": {
    "pycharm": {
     "name": "#%%\n"
    }
   },
   "outputs": [
    {
     "data": {
      "text/plain": [
       "'57462055-3997-4925-988E-A9EC0A89B3E0'"
      ]
     },
     "execution_count": 19,
     "metadata": {},
     "output_type": "execute_result"
    }
   ],
   "source": [
    "task_id"
   ]
  },
  {
   "cell_type": "code",
   "execution_count": 20,
   "id": "632884d9",
   "metadata": {
    "pycharm": {
     "name": "#%%\n"
    }
   },
   "outputs": [
    {
     "name": "stderr",
     "output_type": "stream",
     "text": [
      "INFO:root:Making POST to https://doug.steamship.run/audio-markdown-client-test-01/audio-markdown-client-test-01/get_markdown in space None/7E4972E1-7836-4658-B10C-1C6D3B9D8032\n",
      "INFO:root:From POST to https://doug.steamship.run/audio-markdown-client-test-01/audio-markdown-client-test-01/get_markdown got HTTP 200\n"
     ]
    },
    {
     "data": {
      "text/plain": [
       "Response(expect=None, task=None, data_={'task_id': '57462055-3997-4925-988E-A9EC0A89B3E0', 'status': 'running'}, error=None, client=Steamship(config=Configuration(api_key='19A61049-3F5C-4928-A250-463C3D053D81', api_base=HttpUrl('https://api.steamship.com/api/v1/', scheme='https', host='api.steamship.com', tld='com', host_type='domain', port='443', path='/api/v1/'), app_base=HttpUrl('https://steamship.run/', scheme='https', host='steamship.run', tld='run', host_type='domain', port='443', path='/'), web_base=HttpUrl('https://app.steamship.com/', scheme='https', host='app.steamship.com', tld='com', host_type='domain', port='443', path='/'), space_id='7E4972E1-7836-4658-B10C-1C6D3B9D8032', space_handle='audio-markdown-client-test-01', profile=None)))"
      ]
     },
     "execution_count": 20,
     "metadata": {},
     "output_type": "execute_result"
    }
   ],
   "source": [
    "instance.post(\"get_markdown\", task_id=task_id)"
   ]
  },
  {
   "cell_type": "code",
   "execution_count": 22,
   "id": "c7a2fa32",
   "metadata": {
    "pycharm": {
     "name": "#%%\n"
    }
   },
   "outputs": [],
   "source": [
    "n_retries = 0"
   ]
  },
  {
   "cell_type": "code",
   "execution_count": 23,
   "id": "11b7f54c",
   "metadata": {
    "pycharm": {
     "name": "#%%\n"
    }
   },
   "outputs": [
    {
     "name": "stderr",
     "output_type": "stream",
     "text": [
      "INFO:root:Making POST to https://doug.steamship.run/audio-markdown-client-test-01/audio-markdown-client-test-01/get_markdown in space None/7E4972E1-7836-4658-B10C-1C6D3B9D8032\n",
      "INFO:root:From POST to https://doug.steamship.run/audio-markdown-client-test-01/audio-markdown-client-test-01/get_markdown got HTTP 200\n",
      "INFO:root:Making POST to https://doug.steamship.run/audio-markdown-client-test-01/audio-markdown-client-test-01/get_markdown in space None/7E4972E1-7836-4658-B10C-1C6D3B9D8032\n"
     ]
    },
    {
     "name": "stdout",
     "output_type": "stream",
     "text": [
      "[Try 0] Transcription is succeeded.\n"
     ]
    },
    {
     "name": "stderr",
     "output_type": "stream",
     "text": [
      "INFO:root:From POST to https://doug.steamship.run/audio-markdown-client-test-01/audio-markdown-client-test-01/get_markdown got HTTP 200\n"
     ]
    },
    {
     "name": "stdout",
     "output_type": "stream",
     "text": [
      "# testing this Deam Ship Audio Markdown Package \n",
      "\n",
      "Here's a list of things we'd like to check, \n",
      "1. whisper model, \n",
      "2. markdown extraction, \n",
      "3. webpage, \n",
      "\n",
      "Here's a list of things we don't care about, \n",
      "* misspellings, \n",
      "* weird grammar, \n",
      "# this is the first heading \n",
      "## this is the second heading \n",
      "### this is the third heading \n",
      "#### this is the fourth heading \n",
      "##### this is the sixth element. \n",
      "###### this is the sixth heading \n",
      "\n",
      "Thank you for listening to our tests.\n"
     ]
    }
   ],
   "source": [
    "while n_retries <= 100 and status != TaskState.succeeded:\n",
    "    response = instance.post(\"get_markdown\", task_id=task_id)\n",
    "\n",
    "    if response.task and response.task.state == TaskState.failed:\n",
    "        print(f\"[FAILED] {response.task.status_message}\")\n",
    "        break\n",
    "\n",
    "    status = response.data[\"status\"]\n",
    "\n",
    "    print(f\"[Try {n_retries}] Transcription is {status}.\")\n",
    "    if status == \"succeeded\":\n",
    "        break\n",
    "    time.sleep(2)\n",
    "    n_retries += 1\n",
    "\n",
    "response = instance.post(\"get_markdown\", task_id=task_id)\n",
    "file = response.data[\"markdown\"]\n"
   ]
  },
  {
   "cell_type": "code",
   "execution_count": 24,
   "id": "251dab12",
   "metadata": {},
   "outputs": [
    {
     "data": {
      "text/markdown": [
       "# testing this Deam Ship Audio Markdown Package \n",
       "\n",
       "Here's a list of things we'd like to check, \n",
       "1. whisper model, \n",
       "2. markdown extraction, \n",
       "3. webpage, \n",
       "\n",
       "Here's a list of things we don't care about, \n",
       "* misspellings, \n",
       "* weird grammar, \n",
       "# this is the first heading \n",
       "## this is the second heading \n",
       "### this is the third heading \n",
       "#### this is the fourth heading \n",
       "##### this is the sixth element. \n",
       "###### this is the sixth heading \n",
       "\n",
       "Thank you for listening to our tests."
      ],
      "text/plain": [
       "<IPython.core.display.Markdown object>"
      ]
     },
     "metadata": {},
     "output_type": "display_data"
    }
   ],
   "source": [
    "from IPython.display import display, Markdown\n",
    "display(Markdown(file))"
   ]
  },
  {
   "cell_type": "code",
   "execution_count": null,
   "id": "1f02a92b",
   "metadata": {},
   "outputs": [],
   "source": []
  }
 ],
 "metadata": {
  "kernelspec": {
   "display_name": "Python 3 (ipykernel)",
   "language": "python",
   "name": "python3"
  },
  "language_info": {
   "codemirror_mode": {
    "name": "ipython",
    "version": 3
   },
   "file_extension": ".py",
   "mimetype": "text/x-python",
   "name": "python",
   "nbconvert_exporter": "python",
   "pygments_lexer": "ipython3",
   "version": "3.9.6"
  }
 },
 "nbformat": 4,
 "nbformat_minor": 5
}
